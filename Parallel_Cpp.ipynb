{
  "nbformat": 4,
  "nbformat_minor": 0,
  "metadata": {
    "colab": {
      "provenance": [],
      "toc_visible": true,
      "include_colab_link": true
    },
    "kernelspec": {
      "name": "python3",
      "display_name": "Python 3"
    },
    "language_info": {
      "name": "python"
    }
  },
  "cells": [
    {
      "cell_type": "markdown",
      "metadata": {
        "id": "view-in-github",
        "colab_type": "text"
      },
      "source": [
        "<a href=\"https://colab.research.google.com/github/COMS-BC3159-SP23/colabs/blob/main/Parallel_Cpp.ipynb\" target=\"_parent\"><img src=\"https://colab.research.google.com/assets/colab-badge.svg\" alt=\"Open In Colab\"/></a>"
      ]
    },
    {
      "cell_type": "markdown",
      "source": [
        "# Parallel C++ 101\n",
        "\n",
        "## Objective:\n",
        "In this notebook we're going to explore a program that wants to increment a global variable by 100,000 twice! We'll look at the serial output, the parallel (with no safety measures put in) output, and the output using synchronizations, locks, and atomics.\n",
        "\n",
        "## Acknowledgements:\n",
        "These notes were built with the support of [ChatGPT](https://chat.openai.com/chat)."
      ],
      "metadata": {
        "id": "RtcKXnzCWDe0"
      }
    },
    {
      "cell_type": "code",
      "execution_count": null,
      "metadata": {
        "id": "9_G8zScrV9vA"
      },
      "outputs": [],
      "source": [
        "# Install some magic to make c++ programs look nice!\n",
        "!wget -O cpp_plugin.py https://gist.github.com/akshaykhadse/7acc91dd41f52944c6150754e5530c4b/raw/cpp_plugin.py\n",
        "%load_ext cpp_plugin"
      ]
    },
    {
      "cell_type": "markdown",
      "source": [
        "## The Serial Code"
      ],
      "metadata": {
        "id": "TKPiMGXrWaKJ"
      }
    },
    {
      "cell_type": "code",
      "source": [
        "#@title The output of the cell is formatted text double click the title to show or hide the raw code you can edit!\n",
        "%%cpp -n serial.cpp -s xcode\n",
        "\n",
        "#include <iostream>\n",
        "\n",
        "int shared_counter = 0;\n",
        "\n",
        "void increment_counter() {\n",
        "    for (int i = 0; i < 100000; i++) {\n",
        "        shared_counter++;\n",
        "    }\n",
        "}\n",
        "\n",
        "int main() {\n",
        "    increment_counter();\n",
        "    increment_counter();\n",
        "    std::cout << \"Final count: \" << shared_counter << std::endl;\n",
        "    return 0;\n",
        "}"
      ],
      "metadata": {
        "cellView": "form",
        "id": "LhLFb3RAW1RJ"
      },
      "execution_count": null,
      "outputs": []
    },
    {
      "cell_type": "code",
      "source": [
        "# Now lets compile our code into a working file!\n",
        "!g++ serial.cpp -o serial.exe\n",
        "# And now lets run that code!\n",
        "!./serial.exe"
      ],
      "metadata": {
        "id": "u9zZRsPxXKLt"
      },
      "execution_count": null,
      "outputs": []
    },
    {
      "cell_type": "markdown",
      "source": [
        "## The Hogwild Parallel Code"
      ],
      "metadata": {
        "id": "LfC73t4uXuLK"
      }
    },
    {
      "cell_type": "code",
      "source": [
        "#@title The output of the cell is formatted text double click the title to show or hide the raw code you can edit!\n",
        "%%cpp -n parallel.cpp -s xcode\n",
        "\n",
        "#include <iostream>\n",
        "#include <thread>\n",
        "\n",
        "int shared_counter = 0;\n",
        "\n",
        "void increment_counter() {\n",
        "    for (int i = 0; i < 100000; i++) {\n",
        "        shared_counter++;\n",
        "    }\n",
        "}\n",
        "\n",
        "int main() {\n",
        "    // Construct two threads t1 and t2 and pass them the incredment_counter\n",
        "    // function to run for us in parallel!\n",
        "    std::thread t1(increment_counter);\n",
        "    std::thread t2(increment_counter);\n",
        "\n",
        "    std::cout << \"Final count: \" << shared_counter << std::endl;\n",
        "    return 0;\n",
        "}\n"
      ],
      "metadata": {
        "cellView": "form",
        "id": "dzxW9Fr6XSk6"
      },
      "execution_count": null,
      "outputs": []
    },
    {
      "cell_type": "code",
      "source": [
        "# Now lets compile our code into a working file! (Note we have to add -pthread)\n",
        "!g++ parallel.cpp -o parallel.exe -pthread\n",
        "# And now lets run that code!\n",
        "!./parallel.exe"
      ],
      "metadata": {
        "id": "26xRi1KSYLN7"
      },
      "execution_count": null,
      "outputs": []
    },
    {
      "cell_type": "markdown",
      "source": [
        "You likely got both the wrong answer and `terminate called without an active exception`. This is because our code returned before the threads were done running! What happened? We didn't wait for them to finish! We can make one small change to our code to fix that!"
      ],
      "metadata": {
        "id": "OpiKXnX2Y6gm"
      }
    },
    {
      "cell_type": "code",
      "source": [
        "#@title The output of the cell is formatted text double click the title to show or hide the raw code you can edit!\n",
        "%%cpp -n parallel_2.cpp -s xcode\n",
        "\n",
        "#include <iostream>\n",
        "#include <thread>\n",
        "\n",
        "int shared_counter = 0;\n",
        "\n",
        "void increment_counter() {\n",
        "    for (int i = 0; i < 100000; i++) {\n",
        "        shared_counter++;\n",
        "    }\n",
        "}\n",
        "\n",
        "int main() {\n",
        "    // Construct two threads t1 and t2 and pass them the incredment_counter\n",
        "    // function to run for us in parallel!\n",
        "    std::thread t1(increment_counter);\n",
        "    std::thread t2(increment_counter);\n",
        "\n",
        "    // Wait for t1 and then t2 to finish!\n",
        "    t1.join();\n",
        "    t2.join();\n",
        "\n",
        "    std::cout << \"Final count: \" << shared_counter << std::endl;\n",
        "    return 0;\n",
        "}\n"
      ],
      "metadata": {
        "cellView": "form",
        "id": "D6E3edGOYPFZ"
      },
      "execution_count": null,
      "outputs": []
    },
    {
      "cell_type": "code",
      "source": [
        "# Now lets compile our code into a working file! (Note we have to add -pthread)\n",
        "!g++ parallel_2.cpp -o parallel_2.exe -pthread\n",
        "# And now lets run that code!\n",
        "!./parallel_2.exe"
      ],
      "metadata": {
        "id": "W4GKeld3ZN0c"
      },
      "execution_count": null,
      "outputs": []
    },
    {
      "cell_type": "markdown",
      "source": [
        "This likely removed your error but the answer is most likely still wrong. What is going on here? Well it turns out that the operation `shared_counter++;` has three steps to it:\n",
        "1. First the thread loads in the value stored in the counter from RAM/Cache into a register.\n",
        "2. Then it preforms the math on that value incrementing it.\n",
        "3. Then it stores that result back into RAM/Cache\n",
        "\n",
        "What's going wrong here is that there is no guarantee that both threads don't read the same value before either of them can write the updated value down which means that sometimes both try to update it to the same value!\n",
        "\n",
        "It is also important to note that the join statements are blocking. That is, the code will wait for `t1` to finish and then wait for `t2` to finish. If you have unbalanced runtimes of your threads you'll need to be careful to schedule them appropriately or use more advanced measures (as described later)."
      ],
      "metadata": {
        "id": "DdnlVX49ZZwp"
      }
    },
    {
      "cell_type": "markdown",
      "source": [
        "## Atomics\n",
        "\n",
        "In this example since we are just incrementing a variable we can simply use atomic operations to make sure that the three step process to do `++` occurs IN FULL before the other thread is able to read the value. This will hurt performance a bit but will ensure correctness."
      ],
      "metadata": {
        "id": "rM7J08k5aXbz"
      }
    },
    {
      "cell_type": "code",
      "source": [
        "#@title The output of the cell is formatted text double click the title to show or hide the raw code you can edit!\n",
        "%%cpp -n parallel_atomic.cpp -s xcode\n",
        "\n",
        "#include <iostream>\n",
        "#include <thread>\n",
        "#include <atomic>\n",
        "\n",
        "// All you need to do is declare that variable an atomic variable and the\n",
        "// compiler will take care of the rest for you!\n",
        "std::atomic<int> shared_counter(0);\n",
        "\n",
        "void increment_counter() {\n",
        "    for (int i = 0; i < 100000; i++) {\n",
        "        shared_counter++;\n",
        "    }\n",
        "}\n",
        "\n",
        "int main() {\n",
        "    std::thread t1(increment_counter);\n",
        "    std::thread t2(increment_counter);\n",
        "\n",
        "    t1.join();\n",
        "    t2.join();\n",
        "\n",
        "    std::cout << \"Final count: \" << shared_counter << std::endl;\n",
        "    return 0;\n",
        "}\n"
      ],
      "metadata": {
        "cellView": "form",
        "id": "jrw7LeZDZYDL"
      },
      "execution_count": null,
      "outputs": []
    },
    {
      "cell_type": "code",
      "source": [
        "# Now lets compile our code into a working file! (Note we have to add -pthread)\n",
        "!g++ parallel_atomic.cpp -o parallel_atomic.exe -pthread\n",
        "# And now lets run that code!\n",
        "!./parallel_atomic.exe"
      ],
      "metadata": {
        "id": "Ns99Rd7CaoJi"
      },
      "execution_count": null,
      "outputs": []
    },
    {
      "cell_type": "markdown",
      "source": [
        "## Mutexes and Advanced Synchronization\n",
        "\n",
        "What if we need to do far more than one operation before we allow a thread to access a variable. For example, what if you needed to send an email every time the counter reached a multiple of 1,000 and then after the email was sent, depending upon a dice roll, either add 7 or just add 1. I'm not going to implement that chaotic function but you can see how you may need to hold the value for a longer period of time.\n",
        "\n",
        "One way to do this is through mutexes which we'll use below. Here's a breakdown of the key elements of this example:\n",
        "\n",
        "`std::mutex mtx;`: This is a mutex object, which is used to synchronize access to shared data. A mutex is essentially a lock that can be acquired and released by different threads.\n",
        "\n",
        "`std::lock_guard<std::mutex> lock(mtx);`: This line creates a lock_guard object, which automatically acquires the mutex when it is constructed and releases the mutex when it is destroyed. The lock_guard object is scoped to the current block of code, so it releases the mutex automatically when the block is exited, even if an exception is thrown.\n",
        "\n",
        "`mtx.lock();`: This function locks the mutex, so that no other thread can access the shared data until the mutex is unlocked.\n",
        "\n",
        "`mtx.unlock();`: This function unlocks the mutex, allowing other threads to access the shared data.\n",
        "\n",
        "It's important to note that using `std::lock_guard` to lock a mutex is exception-safe, this means that even if an exception is thrown within the scope of the lock_guard object, the lock will be released, this prevents deadlocks and ensures the program's correct behavior. This is not true for more simple implementations of such kinds of locks BUT does come with a small amount of additional overhead."
      ],
      "metadata": {
        "id": "2erFAcvqa8CH"
      }
    },
    {
      "cell_type": "code",
      "source": [
        "#@title The output of the cell is formatted text double click the title to show or hide the raw code you can edit!\n",
        "%%cpp -n parallel_mutex.cpp -s xcode\n",
        "\n",
        "#include <iostream>\n",
        "#include <thread>\n",
        "#include <mutex>\n",
        "\n",
        "std::mutex mtx;  //mutex object to synchronize access to shared_counter\n",
        "int shared_counter = 0;\n",
        "\n",
        "void increment_counter() {\n",
        "    for (int i = 0; i < 100000; i++) {\n",
        "        std::lock_guard<std::mutex> lock(mtx);  //lock the mutex\n",
        "        shared_counter++; //increment shared_counter\n",
        "    }\n",
        "}\n",
        "\n",
        "int main() {\n",
        "    std::thread t1(increment_counter);\n",
        "    std::thread t2(increment_counter);\n",
        "\n",
        "    t1.join(); // wait for t1 to finish\n",
        "    t2.join(); // wait for t2 to finish\n",
        "\n",
        "    std::cout << \"Final count: \" << shared_counter << std::endl;\n",
        "    return 0;\n",
        "}\n"
      ],
      "metadata": {
        "cellView": "form",
        "id": "14rf1bvMa4s7"
      },
      "execution_count": null,
      "outputs": []
    },
    {
      "cell_type": "code",
      "source": [
        "# Now lets compile our code into a working file! (Note we have to add -pthread)\n",
        "!g++ parallel_mutex.cpp -o parallel_mutex.exe -pthread\n",
        "# And now lets run that code!\n",
        "!./parallel_mutex.exe"
      ],
      "metadata": {
        "id": "2qyqERzxdHrr"
      },
      "execution_count": null,
      "outputs": []
    }
  ]
}